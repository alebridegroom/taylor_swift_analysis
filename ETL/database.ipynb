{
 "cells": [
  {
   "cell_type": "code",
   "execution_count": 1,
   "metadata": {},
   "outputs": [],
   "source": [
    "import pandas as pd\n",
    "import sqlite3\n"
   ]
  },
  {
   "cell_type": "code",
   "execution_count": 5,
   "metadata": {},
   "outputs": [],
   "source": [
    "taylor_df = pd.read_csv(\"../datasets/taylor_swift_api.csv\")"
   ]
  },
  {
   "cell_type": "markdown",
   "metadata": {},
   "source": []
  },
  {
   "cell_type": "code",
   "execution_count": 2,
   "metadata": {},
   "outputs": [],
   "source": [
    "conn = sqlite3.connect(\"taylor.sqlite\")"
   ]
  },
  {
   "cell_type": "code",
   "execution_count": 6,
   "metadata": {},
   "outputs": [
    {
     "data": {
      "text/plain": [
       "268"
      ]
     },
     "execution_count": 6,
     "metadata": {},
     "output_type": "execute_result"
    }
   ],
   "source": [
    "taylor_df.to_sql(\"taylor_main\", conn, if_exists= \"replace\", index=False)"
   ]
  },
  {
   "cell_type": "code",
   "execution_count": 7,
   "metadata": {},
   "outputs": [
    {
     "data": {
      "text/plain": [
       "268"
      ]
     },
     "execution_count": 7,
     "metadata": {},
     "output_type": "execute_result"
    }
   ],
   "source": [
    "taylor_df1 = pd.read_sql(\"\"\"SELECT *,\n",
    "       CASE\n",
    "           WHEN key = 0 THEN 'C'\n",
    "           WHEN key = 1 THEN 'C#'\n",
    "           WHEN key = 2 THEN 'D'\n",
    "           WHEN key = 3 THEN 'D#'\n",
    "           WHEN key = 4 THEN 'E'\n",
    "           WHEN key = 5 THEN 'F'\n",
    "           WHEN key = 6 THEN 'F#'\n",
    "           WHEN key = 7 THEN 'G'\n",
    "           WHEN key = 8 THEN 'G#'\n",
    "           WHEN key = 9 THEN 'A'\n",
    "           WHEN key = 10 THEN 'A#'\n",
    "           WHEN key = 11 THEN 'B'\n",
    "           ELSE 'no key'\n",
    "       END AS album_key\n",
    "FROM 'taylor_main'\"\"\", conn)\n",
    "taylor_df1.to_sql(\"taylor_main\", conn, if_exists= \"replace\", index=False)"
   ]
  },
  {
   "cell_type": "code",
   "execution_count": 8,
   "metadata": {},
   "outputs": [
    {
     "data": {
      "text/html": [
       "<div>\n",
       "<style scoped>\n",
       "    .dataframe tbody tr th:only-of-type {\n",
       "        vertical-align: middle;\n",
       "    }\n",
       "\n",
       "    .dataframe tbody tr th {\n",
       "        vertical-align: top;\n",
       "    }\n",
       "\n",
       "    .dataframe thead th {\n",
       "        text-align: right;\n",
       "    }\n",
       "</style>\n",
       "<table border=\"1\" class=\"dataframe\">\n",
       "  <thead>\n",
       "    <tr style=\"text-align: right;\">\n",
       "      <th></th>\n",
       "      <th>album_name</th>\n",
       "      <th>popularity</th>\n",
       "      <th>key</th>\n",
       "      <th>danceability</th>\n",
       "      <th>energy</th>\n",
       "      <th>loudness</th>\n",
       "      <th>acousticness</th>\n",
       "      <th>instrumentalness</th>\n",
       "      <th>liveness</th>\n",
       "      <th>valence</th>\n",
       "      <th>tempo</th>\n",
       "      <th>album_key</th>\n",
       "    </tr>\n",
       "  </thead>\n",
       "  <tbody>\n",
       "    <tr>\n",
       "      <th>0</th>\n",
       "      <td>...Ready For It? (BloodPop® Remix)</td>\n",
       "      <td>56.000000</td>\n",
       "      <td>7.0</td>\n",
       "      <td>0.582000</td>\n",
       "      <td>0.835000</td>\n",
       "      <td>-4.899000</td>\n",
       "      <td>0.133000</td>\n",
       "      <td>0.000000</td>\n",
       "      <td>0.102000</td>\n",
       "      <td>0.496000</td>\n",
       "      <td>160.090000</td>\n",
       "      <td>G</td>\n",
       "    </tr>\n",
       "    <tr>\n",
       "      <th>1</th>\n",
       "      <td>1989 (Deluxe Edition)</td>\n",
       "      <td>36.333333</td>\n",
       "      <td>5.0</td>\n",
       "      <td>0.682667</td>\n",
       "      <td>0.239667</td>\n",
       "      <td>-16.463333</td>\n",
       "      <td>0.782333</td>\n",
       "      <td>0.000000</td>\n",
       "      <td>0.456333</td>\n",
       "      <td>0.457667</td>\n",
       "      <td>108.147000</td>\n",
       "      <td>A</td>\n",
       "    </tr>\n",
       "    <tr>\n",
       "      <th>2</th>\n",
       "      <td>1989 (Taylor's Version)</td>\n",
       "      <td>80.523810</td>\n",
       "      <td>3.0</td>\n",
       "      <td>0.632095</td>\n",
       "      <td>0.665143</td>\n",
       "      <td>-7.126238</td>\n",
       "      <td>0.111264</td>\n",
       "      <td>0.001039</td>\n",
       "      <td>0.152057</td>\n",
       "      <td>0.422371</td>\n",
       "      <td>119.993667</td>\n",
       "      <td>G</td>\n",
       "    </tr>\n",
       "    <tr>\n",
       "      <th>3</th>\n",
       "      <td>1989 (Taylor's Version) [Deluxe]</td>\n",
       "      <td>77.000000</td>\n",
       "      <td>2.0</td>\n",
       "      <td>0.602000</td>\n",
       "      <td>0.648000</td>\n",
       "      <td>-6.905000</td>\n",
       "      <td>0.010400</td>\n",
       "      <td>0.000000</td>\n",
       "      <td>0.217000</td>\n",
       "      <td>0.174000</td>\n",
       "      <td>170.091000</td>\n",
       "      <td>D</td>\n",
       "    </tr>\n",
       "    <tr>\n",
       "      <th>4</th>\n",
       "      <td>All Of The Girls You Loved Before</td>\n",
       "      <td>83.000000</td>\n",
       "      <td>2.0</td>\n",
       "      <td>0.718000</td>\n",
       "      <td>0.467000</td>\n",
       "      <td>-9.660000</td>\n",
       "      <td>0.707000</td>\n",
       "      <td>0.000069</td>\n",
       "      <td>0.126000</td>\n",
       "      <td>0.396000</td>\n",
       "      <td>95.960000</td>\n",
       "      <td>D</td>\n",
       "    </tr>\n",
       "    <tr>\n",
       "      <th>...</th>\n",
       "      <td>...</td>\n",
       "      <td>...</td>\n",
       "      <td>...</td>\n",
       "      <td>...</td>\n",
       "      <td>...</td>\n",
       "      <td>...</td>\n",
       "      <td>...</td>\n",
       "      <td>...</td>\n",
       "      <td>...</td>\n",
       "      <td>...</td>\n",
       "      <td>...</td>\n",
       "      <td>...</td>\n",
       "    </tr>\n",
       "    <tr>\n",
       "      <th>58</th>\n",
       "      <td>evermore</td>\n",
       "      <td>73.200000</td>\n",
       "      <td>5.0</td>\n",
       "      <td>0.518867</td>\n",
       "      <td>0.491333</td>\n",
       "      <td>-9.822467</td>\n",
       "      <td>0.795333</td>\n",
       "      <td>0.023358</td>\n",
       "      <td>0.114933</td>\n",
       "      <td>0.420600</td>\n",
       "      <td>117.479067</td>\n",
       "      <td>G</td>\n",
       "    </tr>\n",
       "    <tr>\n",
       "      <th>59</th>\n",
       "      <td>evermore (deluxe version)</td>\n",
       "      <td>77.500000</td>\n",
       "      <td>5.0</td>\n",
       "      <td>0.586500</td>\n",
       "      <td>0.514500</td>\n",
       "      <td>-9.475000</td>\n",
       "      <td>0.785000</td>\n",
       "      <td>0.000060</td>\n",
       "      <td>0.103500</td>\n",
       "      <td>0.530500</td>\n",
       "      <td>144.919000</td>\n",
       "      <td>A#</td>\n",
       "    </tr>\n",
       "    <tr>\n",
       "      <th>60</th>\n",
       "      <td>folklore (deluxe version)</td>\n",
       "      <td>72.058824</td>\n",
       "      <td>4.0</td>\n",
       "      <td>0.541941</td>\n",
       "      <td>0.415824</td>\n",
       "      <td>-10.336059</td>\n",
       "      <td>0.717588</td>\n",
       "      <td>0.000302</td>\n",
       "      <td>0.110465</td>\n",
       "      <td>0.361353</td>\n",
       "      <td>119.884412</td>\n",
       "      <td>C</td>\n",
       "    </tr>\n",
       "    <tr>\n",
       "      <th>61</th>\n",
       "      <td>reputation</td>\n",
       "      <td>82.133333</td>\n",
       "      <td>4.0</td>\n",
       "      <td>0.657933</td>\n",
       "      <td>0.582867</td>\n",
       "      <td>-7.672400</td>\n",
       "      <td>0.138515</td>\n",
       "      <td>0.000044</td>\n",
       "      <td>0.152153</td>\n",
       "      <td>0.293400</td>\n",
       "      <td>127.540133</td>\n",
       "      <td>D</td>\n",
       "    </tr>\n",
       "    <tr>\n",
       "      <th>62</th>\n",
       "      <td>willow (90's trend remix)</td>\n",
       "      <td>52.000000</td>\n",
       "      <td>7.0</td>\n",
       "      <td>0.600000</td>\n",
       "      <td>0.603000</td>\n",
       "      <td>-8.696000</td>\n",
       "      <td>0.313000</td>\n",
       "      <td>0.000000</td>\n",
       "      <td>0.087200</td>\n",
       "      <td>0.379000</td>\n",
       "      <td>168.085000</td>\n",
       "      <td>G</td>\n",
       "    </tr>\n",
       "  </tbody>\n",
       "</table>\n",
       "<p>63 rows × 12 columns</p>\n",
       "</div>"
      ],
      "text/plain": [
       "                            album_name  popularity  key  danceability  \\\n",
       "0   ...Ready For It? (BloodPop® Remix)   56.000000  7.0      0.582000   \n",
       "1                1989 (Deluxe Edition)   36.333333  5.0      0.682667   \n",
       "2              1989 (Taylor's Version)   80.523810  3.0      0.632095   \n",
       "3     1989 (Taylor's Version) [Deluxe]   77.000000  2.0      0.602000   \n",
       "4    All Of The Girls You Loved Before   83.000000  2.0      0.718000   \n",
       "..                                 ...         ...  ...           ...   \n",
       "58                            evermore   73.200000  5.0      0.518867   \n",
       "59           evermore (deluxe version)   77.500000  5.0      0.586500   \n",
       "60           folklore (deluxe version)   72.058824  4.0      0.541941   \n",
       "61                          reputation   82.133333  4.0      0.657933   \n",
       "62           willow (90's trend remix)   52.000000  7.0      0.600000   \n",
       "\n",
       "      energy   loudness  acousticness  instrumentalness  liveness   valence  \\\n",
       "0   0.835000  -4.899000      0.133000          0.000000  0.102000  0.496000   \n",
       "1   0.239667 -16.463333      0.782333          0.000000  0.456333  0.457667   \n",
       "2   0.665143  -7.126238      0.111264          0.001039  0.152057  0.422371   \n",
       "3   0.648000  -6.905000      0.010400          0.000000  0.217000  0.174000   \n",
       "4   0.467000  -9.660000      0.707000          0.000069  0.126000  0.396000   \n",
       "..       ...        ...           ...               ...       ...       ...   \n",
       "58  0.491333  -9.822467      0.795333          0.023358  0.114933  0.420600   \n",
       "59  0.514500  -9.475000      0.785000          0.000060  0.103500  0.530500   \n",
       "60  0.415824 -10.336059      0.717588          0.000302  0.110465  0.361353   \n",
       "61  0.582867  -7.672400      0.138515          0.000044  0.152153  0.293400   \n",
       "62  0.603000  -8.696000      0.313000          0.000000  0.087200  0.379000   \n",
       "\n",
       "         tempo album_key  \n",
       "0   160.090000         G  \n",
       "1   108.147000         A  \n",
       "2   119.993667         G  \n",
       "3   170.091000         D  \n",
       "4    95.960000         D  \n",
       "..         ...       ...  \n",
       "58  117.479067         G  \n",
       "59  144.919000        A#  \n",
       "60  119.884412         C  \n",
       "61  127.540133         D  \n",
       "62  168.085000         G  \n",
       "\n",
       "[63 rows x 12 columns]"
      ]
     },
     "execution_count": 8,
     "metadata": {},
     "output_type": "execute_result"
    }
   ],
   "source": [
    "group_by_taylor = pd.read_sql(\"\"\"SELECT album_name, \n",
    "       avg(popularity) as popularity, \n",
    "       round(avg(key)) as key, \n",
    "       avg(danceability) as danceability,\n",
    "       avg(energy) as energy,\n",
    "       avg(loudness) as loudness,\n",
    "       avg(acousticness) as acousticness,\n",
    "       avg(instrumentalness) as instrumentalness,\n",
    "       avg(liveness) as liveness,\n",
    "       avg(valence) as valence,\n",
    "       avg(tempo) as tempo,\n",
    "       CASE\n",
    "           WHEN key = 0 THEN 'C'\n",
    "           WHEN key = 1 THEN 'C#'\n",
    "           WHEN key = 2 THEN 'D'\n",
    "            WHEN key = 3 THEN 'D#'\n",
    "            WHEN key = 4 THEN 'E'\n",
    "            WHEN key = 5 THEN 'F'\n",
    "            WHEN key = 6 THEN 'F#'\n",
    "            WHEN key = 7 THEN 'G'\n",
    "            WHEN key = 8 THEN 'G#'\n",
    "            WHEN key = 9 THEN 'A'\n",
    "            WHEN key = 10 THEN 'A#'\n",
    "            WHEN key = 11 THEN 'B'\n",
    "\n",
    "           ELSE 'no key'\n",
    "       END AS album_key\n",
    "FROM 'taylor_main'\n",
    "GROUP BY 1\"\"\", conn)\n",
    "group_by_taylor"
   ]
  },
  {
   "cell_type": "code",
   "execution_count": 9,
   "metadata": {},
   "outputs": [
    {
     "data": {
      "text/plain": [
       "63"
      ]
     },
     "execution_count": 9,
     "metadata": {},
     "output_type": "execute_result"
    }
   ],
   "source": [
    "group_by_taylor.to_sql(\"taylor_group\", conn, if_exists= \"replace\", index=False)"
   ]
  },
  {
   "cell_type": "code",
   "execution_count": 34,
   "metadata": {},
   "outputs": [
    {
     "data": {
      "text/plain": [
       "169"
      ]
     },
     "execution_count": 34,
     "metadata": {},
     "output_type": "execute_result"
    }
   ],
   "source": [
    "main_albums = pd.read_sql(\"\"\"\n",
    "SELECT *\n",
    "FROM \"taylor_main\"\n",
    "WHERE album_name IN (\n",
    "    \"Taylor Swift\",\n",
    "    \"Fearless (Taylor's Version)\",\n",
    "    \"Speak Now (Taylor's Version)\",\n",
    "    \"Red (Taylor's Version)\",\n",
    "    \"1989 (Taylor's Version)\",\n",
    "    \"reputation\",\n",
    "    \"Lover\",\n",
    "    \"folklore (deluxe version)\",\n",
    "    \"evermore (deluxe version)\",\n",
    "    \"Midnights (The Til Dawn Edition)\"\n",
    ")\"\"\", conn)\n",
    "main_albums.to_sql(\"taylor_main_albums\", conn, if_exists= \"replace\", index=False)\n"
   ]
  },
  {
   "cell_type": "markdown",
   "metadata": {},
   "source": []
  },
  {
   "cell_type": "code",
   "execution_count": 40,
   "metadata": {},
   "outputs": [
    {
     "data": {
      "text/plain": [
       "10"
      ]
     },
     "execution_count": 40,
     "metadata": {},
     "output_type": "execute_result"
    }
   ],
   "source": [
    "taylor_main_groupby = pd.read_sql(\"\"\"\n",
    "SELECT album_name, \n",
    "       avg(popularity) as popularity, \n",
    "       round(avg(key)) as key, \n",
    "       avg(danceability) as danceability,\n",
    "       avg(energy) as energy,\n",
    "       avg(loudness) as loudness,\n",
    "       avg(acousticness) as acousticness,\n",
    "       avg(instrumentalness) as instrumentalness,\n",
    "       avg(liveness) as liveness,\n",
    "       avg(valence) as valence,\n",
    "       avg(tempo) as tempo,\n",
    "       CASE\n",
    "           WHEN key = 0 THEN 'C'\n",
    "           WHEN key = 1 THEN 'C#'\n",
    "           WHEN key = 2 THEN 'D'\n",
    "           WHEN key = 3 THEN 'D#'\n",
    "           WHEN key = 4 THEN 'E'\n",
    "           WHEN key = 5 THEN 'F'\n",
    "           WHEN key = 6 THEN 'F#'\n",
    "           WHEN key = 7 THEN 'G'\n",
    "           WHEN key = 8 THEN 'G#'\n",
    "           WHEN key = 9 THEN 'A'\n",
    "           WHEN key = 10 THEN 'A#'\n",
    "           WHEN key = 11 THEN 'B'\n",
    "           ELSE 'no key'\n",
    "       END AS album_key\n",
    "FROM 'taylor_main'\n",
    "WHERE album_name IN (\n",
    "    \"Taylor Swift\",\n",
    "    \"Fearless (Taylor's Version)\",\n",
    "    \"Speak Now (Taylor's Version)\",\n",
    "    \"Red (Taylor's Version)\",\n",
    "    \"1989 (Taylor's Version)\",\n",
    "    \"reputation\",\n",
    "    \"Lover\",\n",
    "    \"folklore (deluxe version)\",\n",
    "    \"evermore (deluxe version)\",\n",
    "    \"Midnights (The Til Dawn Edition)\"\n",
    ")\n",
    "GROUP BY 1\n",
    "\"\"\", conn)\n",
    "taylor_main_groupby.to_sql(\"taylor_main_albums_group\", conn, if_exists= \"replace\", index=False)"
   ]
  },
  {
   "cell_type": "code",
   "execution_count": 10,
   "metadata": {},
   "outputs": [],
   "source": [
    "import numpy as np\n",
    "\n",
    "from sqlalchemy.orm import Session\n",
    "from sqlalchemy import create_engine,  text\n",
    "\n",
    "from flask import Flask, jsonify, Response\n",
    "\n",
    "\n",
    "import json"
   ]
  },
  {
   "cell_type": "code",
   "execution_count": 11,
   "metadata": {},
   "outputs": [],
   "source": [
    "engine = create_engine(\"sqlite:///taylor.sqlite\")"
   ]
  },
  {
   "cell_type": "code",
   "execution_count": 13,
   "metadata": {},
   "outputs": [
    {
     "data": {
      "text/plain": [
       "<sqlalchemy.engine.cursor.LegacyCursorResult at 0x7f78f6d77550>"
      ]
     },
     "execution_count": 13,
     "metadata": {},
     "output_type": "execute_result"
    }
   ],
   "source": [
    "taylor_main = text(\"SELECT * FROM taylor_main\")\n",
    "data = engine.execute(taylor_main)\n",
    "data"
   ]
  },
  {
   "cell_type": "code",
   "execution_count": null,
   "metadata": {},
   "outputs": [],
   "source": []
  },
  {
   "cell_type": "code",
   "execution_count": null,
   "metadata": {},
   "outputs": [],
   "source": []
  },
  {
   "cell_type": "code",
   "execution_count": null,
   "metadata": {},
   "outputs": [],
   "source": []
  }
 ],
 "metadata": {
  "kernelspec": {
   "display_name": "dev",
   "language": "python",
   "name": "python3"
  },
  "language_info": {
   "codemirror_mode": {
    "name": "ipython",
    "version": 3
   },
   "file_extension": ".py",
   "mimetype": "text/x-python",
   "name": "python",
   "nbconvert_exporter": "python",
   "pygments_lexer": "ipython3",
   "version": "3.10.11"
  },
  "orig_nbformat": 4
 },
 "nbformat": 4,
 "nbformat_minor": 2
}
